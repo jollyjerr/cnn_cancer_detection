{
 "cells": [
  {
   "cell_type": "markdown",
   "id": "c73f65e4",
   "metadata": {},
   "source": [
    "# Histopathologic Cancer Detection\n",
    "\n",
    "The goal of this project is to create an algorithm to identify metastatic cancer in small image patches taken from larger digital pathology scans.\n",
    "\n",
    "This project was built as a submission to this Kaggle competition: https://www.kaggle.com/c/histopathologic-cancer-detection/overview"
   ]
  },
  {
   "cell_type": "markdown",
   "id": "c9b0a9ac",
   "metadata": {},
   "source": []
  }
 ],
 "metadata": {
  "kernelspec": {
   "display_name": "Python 3 (ipykernel)",
   "language": "python",
   "name": "python3"
  }
 },
 "nbformat": 4,
 "nbformat_minor": 5
}
